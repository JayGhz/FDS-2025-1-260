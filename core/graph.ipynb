{
 "cells": [
  {
   "cell_type": "code",
   "execution_count": 34,
   "id": "d4514da5",
   "metadata": {},
   "outputs": [],
   "source": [
    "import pandas as pd\n",
    "import json\n",
    "import random\n",
    "from pathlib import Path\n",
    "from collections import defaultdict"
   ]
  },
  {
   "cell_type": "code",
   "execution_count": 35,
   "id": "9234cf05",
   "metadata": {},
   "outputs": [],
   "source": [
    "df = pd.read_csv('./data/CAvideos_cc50_202101.csv')"
   ]
  },
  {
   "cell_type": "code",
   "execution_count": 36,
   "id": "3a799237",
   "metadata": {},
   "outputs": [
    {
     "data": {
      "text/plain": [
       "state\n",
       "Quebec                       3247\n",
       "Alberta                      3209\n",
       "British Columbia             3196\n",
       "Yukon                        3159\n",
       "Ontario                      3156\n",
       "Prince Edward Island         3141\n",
       "Northwest Territories        3140\n",
       "Newfoundland And Labrador    3136\n",
       "New Brunswick                3131\n",
       "Nunavut                      3123\n",
       "Manitoba                     3123\n",
       "Nova Scotia                  3113\n",
       "Saskatchewan                 3007\n",
       "Name: count, dtype: int64"
      ]
     },
     "execution_count": 36,
     "metadata": {},
     "output_type": "execute_result"
    }
   ],
   "source": [
    "df['state'].value_counts()"
   ]
  },
  {
   "cell_type": "code",
   "execution_count": 37,
   "id": "804eecac",
   "metadata": {},
   "outputs": [
    {
     "data": {
      "text/plain": [
       "category_id\n",
       "24    13451\n",
       "25     4159\n",
       "22     4105\n",
       "23     3773\n",
       "10     3731\n",
       "17     2787\n",
       "1      2060\n",
       "26     2007\n",
       "20     1344\n",
       "28     1155\n",
       "27      991\n",
       "19      392\n",
       "15      369\n",
       "2       353\n",
       "43      124\n",
       "29       74\n",
       "30        6\n",
       "Name: count, dtype: int64"
      ]
     },
     "execution_count": 37,
     "metadata": {},
     "output_type": "execute_result"
    }
   ],
   "source": [
    "df['category_id'].value_counts()"
   ]
  },
  {
   "cell_type": "code",
   "execution_count": 38,
   "id": "63093db7",
   "metadata": {},
   "outputs": [
    {
     "data": {
      "text/plain": [
       "category_id\n",
       "24    13451\n",
       "25     4159\n",
       "22     4105\n",
       "23     3773\n",
       "10     3731\n",
       "17     2787\n",
       "1      2060\n",
       "26     2007\n",
       "20     1344\n",
       "28     1155\n",
       "27      991\n",
       "19      392\n",
       "15      369\n",
       "2       353\n",
       "Name: count, dtype: int64"
      ]
     },
     "execution_count": 38,
     "metadata": {},
     "output_type": "execute_result"
    }
   ],
   "source": [
    "df = df[~df['category_id'].isin([30, 43, 29])]\n",
    "df[\"category_id\"].value_counts()"
   ]
  },
  {
   "cell_type": "code",
   "execution_count": 39,
   "id": "0ee2f82c",
   "metadata": {},
   "outputs": [],
   "source": [
    "category_groups = defaultdict(list)\n",
    "for idx, row in df.iterrows():\n",
    "    category = row[\"category_id\"]\n",
    "    category_groups[category].append((idx, row))\n",
    "\n",
    "# Reducir tamaño: seleccionar 1/10 por categoría\n",
    "def reduce_group(group, scale=10):\n",
    "    if len(group) <= scale:\n",
    "        return group\n",
    "    return random.sample(group, len(group) // scale)\n",
    "\n",
    "# Construir estructura por categoría\n",
    "graph_by_category = {}\n",
    "\n",
    "for category, group in category_groups.items():\n",
    "    reduced_group = reduce_group(group)\n",
    "    \n",
    "    nodes = []\n",
    "    links = []\n",
    "    id_map = {}\n",
    "\n",
    "    for i, (idx, row) in enumerate(reduced_group):\n",
    "        node_id = f\"{category}_{i + 1}\"\n",
    "        id_map[idx] = node_id\n",
    "        nodes.append({\n",
    "            \"id\": node_id,\n",
    "            \"name\": row[\"title\"],\n",
    "            \"category_id\": category\n",
    "        })\n",
    "\n",
    "    # Conectar primer nodo con todos los demás\n",
    "    if len(nodes) > 1:\n",
    "        for i in range(1, len(nodes)):\n",
    "            links.append({\n",
    "                \"source\": nodes[0][\"id\"],\n",
    "                \"target\": nodes[i][\"id\"]\n",
    "            })\n",
    "\n",
    "    graph_by_category[str(category)] = {\n",
    "        \"nodes\": nodes,\n",
    "        \"links\": links\n",
    "    }"
   ]
  },
  {
   "cell_type": "code",
   "execution_count": 40,
   "id": "a8977d92",
   "metadata": {},
   "outputs": [],
   "source": [
    "with open(\"../web/public/categories_graph.json\", \"w\", encoding=\"utf-8\") as f:\n",
    "    json.dump(graph_by_category, f, indent=4, ensure_ascii=False)"
   ]
  }
 ],
 "metadata": {
  "kernelspec": {
   "display_name": "env",
   "language": "python",
   "name": "python3"
  },
  "language_info": {
   "codemirror_mode": {
    "name": "ipython",
    "version": 3
   },
   "file_extension": ".py",
   "mimetype": "text/x-python",
   "name": "python",
   "nbconvert_exporter": "python",
   "pygments_lexer": "ipython3",
   "version": "3.12.7"
  }
 },
 "nbformat": 4,
 "nbformat_minor": 5
}
