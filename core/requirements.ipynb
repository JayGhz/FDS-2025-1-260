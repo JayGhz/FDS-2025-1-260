{
 "cells": [
  {
   "cell_type": "code",
   "execution_count": 1,
   "id": "3fd81f7b",
   "metadata": {},
   "outputs": [],
   "source": [
    "import pandas as pd\n",
    "import json\n",
    "from pathlib import Path"
   ]
  },
  {
   "cell_type": "code",
   "execution_count": 2,
   "id": "59c91a74",
   "metadata": {},
   "outputs": [],
   "source": [
    "df = pd.read_csv(\"data/CAvideos_cc50_202101_cleaned.csv\")"
   ]
  },
  {
   "cell_type": "code",
   "execution_count": 3,
   "id": "44690740",
   "metadata": {},
   "outputs": [],
   "source": [
    "category_abbr = {\n",
    "    \"Entertainment\": \"ETM\", \"Music\": \"MSC\", \"Sports\": \"SPT\", \"Comedy\": \"CMD\",\n",
    "    \"News & Politics\": \"NWP\", \"Film & Animation\": \"FLM\", \"Howto & Style\": \"HTS\",\n",
    "    \"People & Blogs\": \"PBG\", \"Gaming\": \"GMG\", \"Education\": \"EDU\", \"Science & Technology\": \"SCT\",\n",
    "    \"Travel & Events\": \"TVE\", \"Pets & Animals\": \"PTA\", \"Autos & Vehicles\": \"AUV\",\n",
    "    \"Shows\": \"SHW\", \"Nonprofits & Activism\": \"NPA\", \"Movies\": \"MOV\", \"Others\": \"OTH\"\n",
    "}\n",
    "\n",
    "requirements_data = {}"
   ]
  },
  {
   "cell_type": "code",
   "execution_count": null,
   "id": "be01a706",
   "metadata": {},
   "outputs": [],
   "source": [
    "category_counts = (\n",
    "    df[\"category\"]\n",
    "    .value_counts(normalize=True)\n",
    "    .mul(100)\n",
    "    .round(2)\n",
    ")\n",
    "\n",
    "others_mask = category_counts < 2\n",
    "if others_mask.any():\n",
    "    others_sum = category_counts[others_mask].sum()\n",
    "    category_counts = category_counts[~others_mask]\n",
    "    category_counts[\"Others\"] = round(others_sum, 2)\n",
    "\n",
    "pie_chart_data = category_counts.reset_index()\n",
    "pie_chart_data.columns = [\"name\", \"value\"]\n",
    "pie_chart_data[\"name\"] = pie_chart_data[\"name\"].map(category_abbr).fillna(\"UNK\")\n",
    "\n",
    "requirements_data[\"topCategoriesByTrend\"] = pie_chart_data.to_dict(orient=\"records\")\n"
   ]
  },
  {
   "cell_type": "code",
   "execution_count": null,
   "id": "10213cae",
   "metadata": {},
   "outputs": [],
   "source": [
    "colors = [\"#B89DFB\", \"#758bcf\", \"#33C2EA\", \"#FFC182\", \"#87db72\"]\n",
    "\n",
    "likes_by_category = df.groupby(\"category\")[\"likes\"].sum().round(2)\n",
    "\n",
    "most_liked = likes_by_category.sort_values(ascending=False).head(5).reset_index()\n",
    "most_liked.columns = [\"key\", \"value\"]\n",
    "most_liked[\"key\"] = most_liked[\"key\"].map(category_abbr).fillna(\"UNK\")\n",
    "most_liked[\"color\"] = [colors[i % len(colors)] for i in range(len(most_liked))]\n",
    "\n",
    "least_liked = likes_by_category.sort_values(ascending=True).head(5).reset_index()\n",
    "least_liked.columns = [\"key\", \"value\"]\n",
    "least_liked[\"key\"] = least_liked[\"key\"].map(category_abbr).fillna(\"UNK\")\n",
    "least_liked[\"color\"] = [colors[i % len(colors)] for i in range(len(least_liked))]\n",
    "\n",
    "requirements_data[\"mostLikedCategories\"] = most_liked.to_dict(orient=\"records\")\n",
    "requirements_data[\"leastLikedCategories\"] = least_liked.to_dict(orient=\"records\")"
   ]
  },
  {
   "cell_type": "code",
   "execution_count": null,
   "id": "db66d9ef",
   "metadata": {},
   "outputs": [],
   "source": [
    "df_ratio = df[df[\"dislikes\"] > 0].copy()\n",
    "\n",
    "\n",
    "ratio_by_category = df_ratio.groupby(\"category\")[\"like_ratio\"].mean().round(2)\n",
    "\n",
    "best_ratio = ratio_by_category.sort_values(ascending=False).head(5).reset_index()\n",
    "best_ratio.columns = [\"key\", \"value\"]\n",
    "best_ratio[\"key\"] = best_ratio[\"key\"].map(category_abbr).fillna(\"UNK\")\n",
    "best_ratio[\"color\"] = [\"#33C2EA\" for _ in range(len(best_ratio))]\n",
    "\n",
    "requirements_data[\"bestLikeDislikeRatio\"] = best_ratio.to_dict(orient=\"records\")\n"
   ]
  },
  {
   "cell_type": "code",
   "execution_count": null,
   "id": "d4574759",
   "metadata": {},
   "outputs": [],
   "source": [
    "df_views = df[df[\"comment_count\"] > 0].copy()\n",
    "df_views[\"views_comments_ratio\"] = df_views[\"views\"] / df_views[\"comment_count\"]\n",
    "\n",
    "ratio_views_comments = df_views.groupby(\"category\")[\"views_comments_ratio\"].mean().round(2)\n",
    "best_views_comments = ratio_views_comments.sort_values(ascending=False).head(5).reset_index()\n",
    "best_views_comments.columns = [\"key\", \"value\"]\n",
    "best_views_comments[\"key\"] = best_views_comments[\"key\"].map(category_abbr).fillna(\"UNK\")\n",
    "best_views_comments[\"color\"] = [\"#33C2EA\" for _ in range(len(best_views_comments))]\n",
    "\n",
    "requirements_data[\"bestViewsCommentsRatio\"] = best_views_comments.to_dict(orient=\"records\")"
   ]
  },
  {
   "cell_type": "code",
   "execution_count": null,
   "id": "cfd45395",
   "metadata": {},
   "outputs": [],
   "source": [
    "df[\"trending_date\"] = pd.to_datetime(df[\"trending_date\"], errors=\"coerce\")\n",
    "\n",
    "df = df.set_index(\"trending_date\")\n",
    "\n",
    "grouped = df.groupby(pd.Grouper(freq=\"5D\")).size().reset_index(name=\"value\")\n",
    "\n",
    "grouped[\"date\"] = grouped[\"trending_date\"].dt.strftime(\"%Y-%m-%d\")\n",
    "\n",
    "trend_volume = grouped[[\"date\", \"value\"]].to_dict(orient=\"records\")\n",
    "\n",
    "for d in trend_volume:\n",
    "    d[\"value\"] = float(d[\"value\"])\n",
    "    d[\"date\"] = str(d[\"date\"])\n",
    "\n",
    "requirements_data[\"trendVolumeOverTime\"] = trend_volume\n"
   ]
  },
  {
   "cell_type": "code",
   "execution_count": null,
   "id": "27b21b28",
   "metadata": {},
   "outputs": [],
   "source": [
    "channel_counts = df[\"channel_title\"].value_counts()\n",
    "\n",
    "most_common_channels = channel_counts.head(5).reset_index()\n",
    "most_common_channels.columns = [\"key\", \"value\"]\n",
    "most_common_channels[\"color\"] = [colors[i % len(colors)] for i in range(len(most_common_channels))]\n",
    "\n",
    "least_common_channels = channel_counts[channel_counts > 0].tail(5).reset_index()\n",
    "least_common_channels.columns = [\"key\", \"value\"]\n",
    "least_common_channels[\"color\"] = [colors[i % len(colors)] for i in range(len(least_common_channels))]\n",
    "\n",
    "requirements_data[\"frequentChannelsInTrend\"] = most_common_channels.to_dict(orient=\"records\")\n",
    "requirements_data[\"rareChannelsInTrend\"] = least_common_channels.to_dict(orient=\"records\")"
   ]
  },
  {
   "cell_type": "code",
   "execution_count": 10,
   "id": "79ce7d3d",
   "metadata": {},
   "outputs": [
    {
     "name": "stdout",
     "output_type": "stream",
     "text": [
      "Archivo requirements.json actualizado con todos los requerimientos.\n"
     ]
    }
   ],
   "source": [
    "output_dir = Path(\"../web/public\")\n",
    "output_dir.mkdir(parents=True, exist_ok=True)\n",
    "json_path = output_dir / \"requirements.json\"\n",
    "\n",
    "if json_path.exists():\n",
    "    with open(json_path, \"r\", encoding=\"utf-8\") as f:\n",
    "        existing_data = json.load(f)\n",
    "else:\n",
    "    existing_data = {}\n",
    "\n",
    "existing_data.update(requirements_data)\n",
    "\n",
    "with open(json_path, \"w\", encoding=\"utf-8\") as f:\n",
    "    json.dump(existing_data, f, indent=2)\n",
    "\n",
    "print(\"Archivo requirements.json actualizado con todos los requerimientos.\")\n"
   ]
  },
  {
   "cell_type": "code",
   "execution_count": 11,
   "id": "89fa00b1",
   "metadata": {},
   "outputs": [],
   "source": [
    "# 7\n",
    "geo_df = df.groupby('state').agg({\n",
    "    'views': 'sum',\n",
    "    'likes': 'sum',\n",
    "    'dislikes': 'sum',\n",
    "    'lat': 'first',\n",
    "    'lon': 'first'\n",
    "}).reset_index()\n",
    "\n",
    "geo_data = geo_df.to_dict(orient='records')\n",
    "\n",
    "output_path = Path(\"../web/public/geo_data.json\")\n",
    "output_path.parent.mkdir(parents=True, exist_ok=True)\n",
    "with open(output_path, \"w\", encoding=\"utf-8\") as f:\n",
    "    json.dump(geo_data, f, indent=2)"
   ]
  }
 ],
 "metadata": {
  "kernelspec": {
   "display_name": "env",
   "language": "python",
   "name": "python3"
  },
  "language_info": {
   "codemirror_mode": {
    "name": "ipython",
    "version": 3
   },
   "file_extension": ".py",
   "mimetype": "text/x-python",
   "name": "python",
   "nbconvert_exporter": "python",
   "pygments_lexer": "ipython3",
   "version": "3.13.5"
  }
 },
 "nbformat": 4,
 "nbformat_minor": 5
}
