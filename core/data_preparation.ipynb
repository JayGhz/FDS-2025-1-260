{
 "cells": [
  {
   "cell_type": "markdown",
   "id": "7ac633c9",
   "metadata": {},
   "source": [
    "**Limpieza de datos**"
   ]
  },
  {
   "cell_type": "code",
   "execution_count": null,
   "id": "72d901ac",
   "metadata": {},
   "outputs": [],
   "source": [
    "import pandas as pd\n",
    "import numpy as np\n",
    "import matplotlib.pyplot as plt\n",
    "import seaborn as sns"
   ]
  },
  {
   "cell_type": "code",
   "execution_count": 3,
   "id": "28080d18",
   "metadata": {},
   "outputs": [],
   "source": [
    "df = pd.read_csv(\"data/CAvideos_cc50_202101.csv\")"
   ]
  },
  {
   "cell_type": "code",
   "execution_count": 9,
   "id": "e290ae82",
   "metadata": {},
   "outputs": [
    {
     "name": "stdout",
     "output_type": "stream",
     "text": [
      "Número total de videos repetidos: 0\n"
     ]
    }
   ],
   "source": [
    "# Eliminacion de duplicados\n",
    "df = df.sort_values(\"views\", ascending=False).drop_duplicates(subset=\"video_id\", keep=\"first\").reset_index(drop=True)\n",
    "duplicate_counts = df['video_id'].value_counts()\n",
    "print(\"Número total de videos repetidos:\", sum(duplicate_counts[duplicate_counts > 1] - 1))"
   ]
  },
  {
   "cell_type": "code",
   "execution_count": 14,
   "id": "18194045",
   "metadata": {},
   "outputs": [],
   "source": [
    "# Rellenar valores none para la columna tags\n",
    "df['tags'] = df['tags'].replace('[none]', 'No tags')\n",
    "\n",
    "# Rellenar los valores nulos de la columna description\n",
    "df['description'] = df['description'].fillna('No description')"
   ]
  },
  {
   "cell_type": "code",
   "execution_count": null,
   "id": "705dc53d",
   "metadata": {},
   "outputs": [],
   "source": [
    "# Formatear fechas"
   ]
  },
  {
   "cell_type": "code",
   "execution_count": null,
   "id": "551635ec",
   "metadata": {},
   "outputs": [],
   "source": [
    "# Identificar fechas"
   ]
  },
  {
   "cell_type": "code",
   "execution_count": null,
   "id": "cb441cad",
   "metadata": {},
   "outputs": [],
   "source": [
    "df.to_csv('./data/CAvideos_cc50_202101_cleaned.csv', index=False)\n",
    "print('Dimensiones del dataset:', df.shape)"
   ]
  },
  {
   "cell_type": "markdown",
   "id": "8c7c84df",
   "metadata": {},
   "source": [
    "**Preprocesamiento**"
   ]
  }
 ],
 "metadata": {
  "kernelspec": {
   "display_name": "Python 3",
   "language": "python",
   "name": "python3"
  },
  "language_info": {
   "codemirror_mode": {
    "name": "ipython",
    "version": 3
   },
   "file_extension": ".py",
   "mimetype": "text/x-python",
   "name": "python",
   "nbconvert_exporter": "python",
   "pygments_lexer": "ipython3",
   "version": "3.13.2"
  }
 },
 "nbformat": 4,
 "nbformat_minor": 5
}
