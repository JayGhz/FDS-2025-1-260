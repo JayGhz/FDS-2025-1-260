{
 "cells": [
  {
   "cell_type": "code",
   "execution_count": 12,
   "id": "22c4e866",
   "metadata": {},
   "outputs": [],
   "source": [
    "import pandas as pd\n",
    "import numpy as np\n",
    "import matplotlib.pyplot as plt\n",
    "import seaborn as sns\n",
    "\n",
    "from sklearn.model_selection import train_test_split\n",
    "from sklearn.preprocessing import StandardScaler\n",
    "import joblib\n"
   ]
  },
  {
   "cell_type": "code",
   "execution_count": 13,
   "id": "0553e3b5",
   "metadata": {},
   "outputs": [],
   "source": [
    "df = pd.read_csv(\"data/CAvideos_cc50_202101_cleaned.csv\")"
   ]
  },
  {
   "cell_type": "code",
   "execution_count": 14,
   "id": "9963d373",
   "metadata": {},
   "outputs": [],
   "source": [
    "# Variables independientes\n",
    "features = ['views', 'likes', 'dislikes', 'comment_count',\n",
    "            'engagement_rate', 'days_until_trending', 'like_ratio']\n",
    "\n",
    "# Variable objetivo\n",
    "target = 'is_viral'\n",
    "\n",
    "# Matrices X e y\n",
    "X = df[features]\n",
    "y = df[target]"
   ]
  },
  {
   "cell_type": "code",
   "execution_count": 15,
   "id": "8bc29aff",
   "metadata": {},
   "outputs": [
    {
     "name": "stdout",
     "output_type": "stream",
     "text": [
      "X_train: (16420, 7)\n",
      "X_test: (7038, 7)\n"
     ]
    }
   ],
   "source": [
    "# División 70% entrenamiento - 30% prueba\n",
    "X_train, X_test, y_train, y_test = train_test_split(\n",
    "    X, y, test_size=0.3, random_state=42, stratify=y\n",
    ")\n",
    "\n",
    "print(\"X_train:\", X_train.shape)\n",
    "print(\"X_test:\", X_test.shape)\n"
   ]
  },
  {
   "cell_type": "code",
   "execution_count": 16,
   "id": "38b7945e",
   "metadata": {},
   "outputs": [
    {
     "name": "stdout",
     "output_type": "stream",
     "text": [
      "Tensores guardados correctamente.\n"
     ]
    }
   ],
   "source": [
    "# Estandarizar variables numéricas\n",
    "scaler = StandardScaler()\n",
    "X_train_scaled = scaler.fit_transform(X_train)\n",
    "X_test_scaled = scaler.transform(X_test)\n",
    "\n",
    "# Guardar tensores y el scaler\n",
    "joblib.dump(X_train_scaled, \"./data/X_train_scaled.pkl\")\n",
    "joblib.dump(X_test_scaled, \"./data/X_test_scaled.pkl\")\n",
    "joblib.dump(y_train, \"./data/y_train.pkl\")\n",
    "joblib.dump(y_test, \"./data/y_test.pkl\")\n",
    "joblib.dump(scaler, \"./data/scaler.pkl\")\n",
    "\n",
    "print(\"Tensores guardados correctamente.\")\n"
   ]
  },
  {
   "cell_type": "code",
   "execution_count": 17,
   "id": "e143a0ae",
   "metadata": {},
   "outputs": [],
   "source": [
    "from sklearn.metrics import RocCurveDisplay\n",
    "from sklearn.linear_model import LogisticRegression\n",
    "from sklearn.ensemble import RandomForestClassifier\n",
    "from xgboost import XGBClassifier\n",
    "\n",
    "from sklearn.metrics import (\n",
    "    classification_report, confusion_matrix, roc_auc_score, f1_score, precision_score, recall_score\n",
    ")"
   ]
  },
  {
   "cell_type": "code",
   "execution_count": 19,
   "id": "07a208c6",
   "metadata": {},
   "outputs": [],
   "source": [
    "X_train = joblib.load(\"./data/X_train_scaled.pkl\")\n",
    "X_test = joblib.load(\"./data/X_test_scaled.pkl\")\n",
    "y_train = joblib.load(\"./data/y_train.pkl\")\n",
    "y_test = joblib.load(\"./data/y_test.pkl\")"
   ]
  },
  {
   "cell_type": "code",
   "execution_count": 20,
   "id": "6c102c8f",
   "metadata": {},
   "outputs": [],
   "source": [
    "# Funcion auxiliar para evaluar modelos\n",
    "def evaluate_model(model, X_test, y_test, name=\"Model\"):\n",
    "    y_pred = model.predict(X_test)\n",
    "    y_proba = model.predict_proba(X_test)[:, 1]\n",
    "\n",
    "    print(f\"\\n=== {name} ===\")\n",
    "    print(classification_report(y_test, y_pred, digits=4))\n",
    "    print(\"Confusion Matrix:\\n\", confusion_matrix(y_test, y_pred))\n",
    "    print(\"AUC:\", roc_auc_score(y_test, y_proba))\n",
    "    print(\"F1:\", f1_score(y_test, y_pred))\n",
    "    print(\"Precision:\", precision_score(y_test, y_pred))\n",
    "    print(\"Recall:\", recall_score(y_test, y_pred))\n"
   ]
  },
  {
   "cell_type": "code",
   "execution_count": null,
   "id": "c3f99a7a",
   "metadata": {},
   "outputs": [
    {
     "name": "stdout",
     "output_type": "stream",
     "text": [
      "\n",
      "=== Logistic Regression ===\n",
      "              precision    recall  f1-score   support\n",
      "\n",
      "           0     0.7567    0.7793    0.7679      3856\n",
      "           1     0.7225    0.6964    0.7092      3182\n",
      "\n",
      "    accuracy                         0.7418      7038\n",
      "   macro avg     0.7396    0.7379    0.7385      7038\n",
      "weighted avg     0.7413    0.7418    0.7414      7038\n",
      "\n",
      "Confusion Matrix:\n",
      " [[3005  851]\n",
      " [ 966 2216]]\n",
      "AUC: 0.8408983624172276\n",
      "F1: 0.709233477356377\n",
      "Precision: 0.7225301597652429\n",
      "Recall: 0.6964173475801383\n"
     ]
    }
   ],
   "source": [
    "# Logistic Regression\n",
    "log_reg = LogisticRegression(class_weight=\"balanced\", max_iter=1000)\n",
    "log_reg.fit(X_train, y_train)\n",
    "\n",
    "evaluate_model(log_reg, X_test, y_test, \"Logistic Regression\")"
   ]
  },
  {
   "cell_type": "code",
   "execution_count": 22,
   "id": "78dd8b0b",
   "metadata": {},
   "outputs": [
    {
     "name": "stdout",
     "output_type": "stream",
     "text": [
      "\n",
      "=== Random Forest ===\n",
      "              precision    recall  f1-score   support\n",
      "\n",
      "           0     1.0000    0.9984    0.9992      3856\n",
      "           1     0.9981    1.0000    0.9991      3182\n",
      "\n",
      "    accuracy                         0.9991      7038\n",
      "   macro avg     0.9991    0.9992    0.9991      7038\n",
      "weighted avg     0.9991    0.9991    0.9991      7038\n",
      "\n",
      "Confusion Matrix:\n",
      " [[3850    6]\n",
      " [   0 3182]]\n",
      "AUC: 0.9999977994736994\n",
      "F1: 0.9990580847723705\n",
      "Precision: 0.9981179422835633\n",
      "Recall: 1.0\n"
     ]
    }
   ],
   "source": [
    "# Ramdom Forest\n",
    "rf = RandomForestClassifier(\n",
    "    n_estimators=100,\n",
    "    max_depth=10,\n",
    "    random_state=42,\n",
    "    class_weight=\"balanced_subsample\",\n",
    "    n_jobs=-1\n",
    ")\n",
    "rf.fit(X_train, y_train)\n",
    "\n",
    "evaluate_model(rf, X_test, y_test, \"Random Forest\")"
   ]
  },
  {
   "cell_type": "code",
   "execution_count": null,
   "id": "f3fe34e2",
   "metadata": {},
   "outputs": [
    {
     "name": "stdout",
     "output_type": "stream",
     "text": [
      "\n",
      "=== XGBoost ===\n",
      "              precision    recall  f1-score   support\n",
      "\n",
      "           0     0.9995    0.9992    0.9994      3856\n",
      "           1     0.9991    0.9994    0.9992      3182\n",
      "\n",
      "    accuracy                         0.9993      7038\n",
      "   macro avg     0.9993    0.9993    0.9993      7038\n",
      "weighted avg     0.9993    0.9993    0.9993      7038\n",
      "\n",
      "Confusion Matrix:\n",
      " [[3853    3]\n",
      " [   2 3180]]\n",
      "AUC: 0.9999976364717511\n",
      "F1: 0.9992144540455616\n",
      "Precision: 0.9990574929311969\n",
      "Recall: 0.9993714644877436\n"
     ]
    }
   ],
   "source": [
    "# XGBoost\n",
    "xgb = XGBClassifier(\n",
    "    n_estimators=100,\n",
    "    max_depth=6,\n",
    "    learning_rate=0.1,\n",
    "    scale_pos_weight=(y_train == 0).sum() / (y_train == 1).sum(),\n",
    "    eval_metric=\"logloss\",\n",
    "    tree_method=\"hist\",\n",
    "    random_state=42\n",
    ")\n",
    "xgb.fit(X_train, y_train)\n",
    "\n",
    "evaluate_model(xgb, X_test, y_test, \"XGBoost\")"
   ]
  },
  {
   "cell_type": "code",
   "execution_count": 24,
   "id": "e033d151",
   "metadata": {},
   "outputs": [
    {
     "data": {
      "image/png": "[encoded data removed]",
      "text/plain": [
       "<Figure size 800x600 with 1 Axes>"
      ]
     },
     "metadata": {},
     "output_type": "display_data"
    }
   ],
   "source": [
    "fig, ax = plt.subplots(figsize=(8, 6))\n",
    "RocCurveDisplay.from_estimator(log_reg, X_test, y_test, name=\"LogReg\", ax=ax)\n",
    "RocCurveDisplay.from_estimator(rf, X_test, y_test, name=\"RandomForest\", ax=ax)\n",
    "RocCurveDisplay.from_estimator(xgb, X_test, y_test, name=\"XGBoost\", ax=ax)\n",
    "plt.title(\"ROC Curve Comparison\")\n",
    "plt.grid(True)\n",
    "plt.show()"
   ]
  }
 ],
 "metadata": {
  "kernelspec": {
   "display_name": "env",
   "language": "python",
   "name": "python3"
  },
  "language_info": {
   "codemirror_mode": {
    "name": "ipython",
    "version": 3
   },
   "file_extension": ".py",
   "mimetype": "text/x-python",
   "name": "python",
   "nbconvert_exporter": "python",
   "pygments_lexer": "ipython3",
   "version": "3.13.5"
  }
 },
 "nbformat": 4,
 "nbformat_minor": 5
}
