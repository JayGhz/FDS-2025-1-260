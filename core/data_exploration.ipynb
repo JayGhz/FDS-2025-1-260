{
 "cells": [
  {
   "cell_type": "markdown",
   "id": "899410b8",
   "metadata": {},
   "source": [
    "**Carga de datos**"
   ]
  },
  {
   "cell_type": "code",
   "execution_count": 1,
   "id": "bb4d272e",
   "metadata": {},
   "outputs": [],
   "source": [
    "import pandas as pd\n",
    "import numpy as np\n",
    "import matplotlib.pyplot as plt\n",
    "import seaborn as sns"
   ]
  },
  {
   "cell_type": "code",
   "execution_count": 2,
   "id": "6140c3ec",
   "metadata": {},
   "outputs": [],
   "source": [
    "df = pd.read_csv(\"data/CAvideos_cc50_202101.csv\")"
   ]
  },
  {
   "cell_type": "code",
   "execution_count": 3,
   "id": "6f633238",
   "metadata": {},
   "outputs": [
    {
     "name": "stdout",
     "output_type": "stream",
     "text": [
      "Dimensiones del dataset: (40881, 20)\n"
     ]
    },
    {
     "data": {
      "text/html": [
       "<div>\n",
       "<style scoped>\n",
       "    .dataframe tbody tr th:only-of-type {\n",
       "        vertical-align: middle;\n",
       "    }\n",
       "\n",
       "    .dataframe tbody tr th {\n",
       "        vertical-align: top;\n",
       "    }\n",
       "\n",
       "    .dataframe thead th {\n",
       "        text-align: right;\n",
       "    }\n",
       "</style>\n",
       "<table border=\"1\" class=\"dataframe\">\n",
       "  <thead>\n",
       "    <tr style=\"text-align: right;\">\n",
       "      <th></th>\n",
       "      <th>video_id</th>\n",
       "      <th>trending_date</th>\n",
       "      <th>title</th>\n",
       "      <th>channel_title</th>\n",
       "      <th>category_id</th>\n",
       "      <th>publish_time</th>\n",
       "      <th>tags</th>\n",
       "      <th>views</th>\n",
       "      <th>likes</th>\n",
       "      <th>dislikes</th>\n",
       "      <th>comment_count</th>\n",
       "      <th>thumbnail_link</th>\n",
       "      <th>comments_disabled</th>\n",
       "      <th>ratings_disabled</th>\n",
       "      <th>video_error_or_removed</th>\n",
       "      <th>description</th>\n",
       "      <th>state</th>\n",
       "      <th>lat</th>\n",
       "      <th>lon</th>\n",
       "      <th>geometry</th>\n",
       "    </tr>\n",
       "  </thead>\n",
       "  <tbody>\n",
       "    <tr>\n",
       "      <th>0</th>\n",
       "      <td>n1WpP7iowLc</td>\n",
       "      <td>17.14.11</td>\n",
       "      <td>Eminem - Walk On Water (Audio) ft. Beyoncé</td>\n",
       "      <td>EminemVEVO</td>\n",
       "      <td>10</td>\n",
       "      <td>2017-11-10T17:00:03.000Z</td>\n",
       "      <td>Eminem|\"Walk\"|\"On\"|\"Water\"|\"Aftermath/Shady/In...</td>\n",
       "      <td>17158579</td>\n",
       "      <td>787425</td>\n",
       "      <td>43420</td>\n",
       "      <td>125882</td>\n",
       "      <td>https://i.ytimg.com/vi/n1WpP7iowLc/default.jpg</td>\n",
       "      <td>False</td>\n",
       "      <td>False</td>\n",
       "      <td>False</td>\n",
       "      <td>Eminem's new track Walk on Water ft. Beyoncé i...</td>\n",
       "      <td>Manitoba</td>\n",
       "      <td>50.150025</td>\n",
       "      <td>-96.883322</td>\n",
       "      <td>POINT (-96.88332178 50.15002545)</td>\n",
       "    </tr>\n",
       "    <tr>\n",
       "      <th>1</th>\n",
       "      <td>0dBIkQ4Mz1M</td>\n",
       "      <td>17.14.11</td>\n",
       "      <td>PLUSH - Bad Unboxing Fan Mail</td>\n",
       "      <td>iDubbbzTV</td>\n",
       "      <td>23</td>\n",
       "      <td>2017-11-13T17:00:00.000Z</td>\n",
       "      <td>plush|\"bad unboxing\"|\"unboxing\"|\"fan mail\"|\"id...</td>\n",
       "      <td>1014651</td>\n",
       "      <td>127794</td>\n",
       "      <td>1688</td>\n",
       "      <td>13030</td>\n",
       "      <td>https://i.ytimg.com/vi/0dBIkQ4Mz1M/default.jpg</td>\n",
       "      <td>False</td>\n",
       "      <td>False</td>\n",
       "      <td>False</td>\n",
       "      <td>STill got a lot of packages. Probably will las...</td>\n",
       "      <td>British Columbia</td>\n",
       "      <td>49.099960</td>\n",
       "      <td>-116.516697</td>\n",
       "      <td>POINT (-116.516697 49.09996035)</td>\n",
       "    </tr>\n",
       "    <tr>\n",
       "      <th>2</th>\n",
       "      <td>5qpjK5DgCt4</td>\n",
       "      <td>17.14.11</td>\n",
       "      <td>Racist Superman | Rudy Mancuso, King Bach &amp; Le...</td>\n",
       "      <td>Rudy Mancuso</td>\n",
       "      <td>23</td>\n",
       "      <td>2017-11-12T19:05:24.000Z</td>\n",
       "      <td>racist superman|\"rudy\"|\"mancuso\"|\"king\"|\"bach\"...</td>\n",
       "      <td>3191434</td>\n",
       "      <td>146035</td>\n",
       "      <td>5339</td>\n",
       "      <td>8181</td>\n",
       "      <td>https://i.ytimg.com/vi/5qpjK5DgCt4/default.jpg</td>\n",
       "      <td>False</td>\n",
       "      <td>False</td>\n",
       "      <td>False</td>\n",
       "      <td>WATCH MY PREVIOUS VIDEO ▶ \\n\\nSUBSCRIBE ► http...</td>\n",
       "      <td>New Brunswick</td>\n",
       "      <td>45.267042</td>\n",
       "      <td>-66.076675</td>\n",
       "      <td>POINT (-66.07667505000001 45.26704185)</td>\n",
       "    </tr>\n",
       "    <tr>\n",
       "      <th>3</th>\n",
       "      <td>d380meD0W0M</td>\n",
       "      <td>17.14.11</td>\n",
       "      <td>I Dare You: GOING BALD!?</td>\n",
       "      <td>nigahiga</td>\n",
       "      <td>24</td>\n",
       "      <td>2017-11-12T18:01:41.000Z</td>\n",
       "      <td>ryan|\"higa\"|\"higatv\"|\"nigahiga\"|\"i dare you\"|\"...</td>\n",
       "      <td>2095828</td>\n",
       "      <td>132239</td>\n",
       "      <td>1989</td>\n",
       "      <td>17518</td>\n",
       "      <td>https://i.ytimg.com/vi/d380meD0W0M/default.jpg</td>\n",
       "      <td>False</td>\n",
       "      <td>False</td>\n",
       "      <td>False</td>\n",
       "      <td>I know it's been a while since we did this sho...</td>\n",
       "      <td>Saskatchewan</td>\n",
       "      <td>50.933311</td>\n",
       "      <td>-102.799989</td>\n",
       "      <td>POINT (-102.7999891 50.93331097)</td>\n",
       "    </tr>\n",
       "    <tr>\n",
       "      <th>4</th>\n",
       "      <td>2Vv-BfVoq4g</td>\n",
       "      <td>17.14.11</td>\n",
       "      <td>Ed Sheeran - Perfect (Official Music Video)</td>\n",
       "      <td>Ed Sheeran</td>\n",
       "      <td>10</td>\n",
       "      <td>2017-11-09T11:04:14.000Z</td>\n",
       "      <td>edsheeran|\"ed sheeran\"|\"acoustic\"|\"live\"|\"cove...</td>\n",
       "      <td>33523622</td>\n",
       "      <td>1634130</td>\n",
       "      <td>21082</td>\n",
       "      <td>85067</td>\n",
       "      <td>https://i.ytimg.com/vi/2Vv-BfVoq4g/default.jpg</td>\n",
       "      <td>False</td>\n",
       "      <td>False</td>\n",
       "      <td>False</td>\n",
       "      <td>🎧: https://ad.gt/yt-perfect\\n💰: https://atlant...</td>\n",
       "      <td>Alberta</td>\n",
       "      <td>53.016698</td>\n",
       "      <td>-112.816639</td>\n",
       "      <td>POINT (-112.8166386 53.01669802)</td>\n",
       "    </tr>\n",
       "  </tbody>\n",
       "</table>\n",
       "</div>"
      ],
      "text/plain": [
       "      video_id trending_date  \\\n",
       "0  n1WpP7iowLc      17.14.11   \n",
       "1  0dBIkQ4Mz1M      17.14.11   \n",
       "2  5qpjK5DgCt4      17.14.11   \n",
       "3  d380meD0W0M      17.14.11   \n",
       "4  2Vv-BfVoq4g      17.14.11   \n",
       "\n",
       "                                               title channel_title  \\\n",
       "0         Eminem - Walk On Water (Audio) ft. Beyoncé    EminemVEVO   \n",
       "1                      PLUSH - Bad Unboxing Fan Mail     iDubbbzTV   \n",
       "2  Racist Superman | Rudy Mancuso, King Bach & Le...  Rudy Mancuso   \n",
       "3                           I Dare You: GOING BALD!?      nigahiga   \n",
       "4        Ed Sheeran - Perfect (Official Music Video)    Ed Sheeran   \n",
       "\n",
       "   category_id              publish_time  \\\n",
       "0           10  2017-11-10T17:00:03.000Z   \n",
       "1           23  2017-11-13T17:00:00.000Z   \n",
       "2           23  2017-11-12T19:05:24.000Z   \n",
       "3           24  2017-11-12T18:01:41.000Z   \n",
       "4           10  2017-11-09T11:04:14.000Z   \n",
       "\n",
       "                                                tags     views    likes  \\\n",
       "0  Eminem|\"Walk\"|\"On\"|\"Water\"|\"Aftermath/Shady/In...  17158579   787425   \n",
       "1  plush|\"bad unboxing\"|\"unboxing\"|\"fan mail\"|\"id...   1014651   127794   \n",
       "2  racist superman|\"rudy\"|\"mancuso\"|\"king\"|\"bach\"...   3191434   146035   \n",
       "3  ryan|\"higa\"|\"higatv\"|\"nigahiga\"|\"i dare you\"|\"...   2095828   132239   \n",
       "4  edsheeran|\"ed sheeran\"|\"acoustic\"|\"live\"|\"cove...  33523622  1634130   \n",
       "\n",
       "   dislikes  comment_count                                  thumbnail_link  \\\n",
       "0     43420         125882  https://i.ytimg.com/vi/n1WpP7iowLc/default.jpg   \n",
       "1      1688          13030  https://i.ytimg.com/vi/0dBIkQ4Mz1M/default.jpg   \n",
       "2      5339           8181  https://i.ytimg.com/vi/5qpjK5DgCt4/default.jpg   \n",
       "3      1989          17518  https://i.ytimg.com/vi/d380meD0W0M/default.jpg   \n",
       "4     21082          85067  https://i.ytimg.com/vi/2Vv-BfVoq4g/default.jpg   \n",
       "\n",
       "   comments_disabled  ratings_disabled  video_error_or_removed  \\\n",
       "0              False             False                   False   \n",
       "1              False             False                   False   \n",
       "2              False             False                   False   \n",
       "3              False             False                   False   \n",
       "4              False             False                   False   \n",
       "\n",
       "                                         description             state  \\\n",
       "0  Eminem's new track Walk on Water ft. Beyoncé i...          Manitoba   \n",
       "1  STill got a lot of packages. Probably will las...  British Columbia   \n",
       "2  WATCH MY PREVIOUS VIDEO ▶ \\n\\nSUBSCRIBE ► http...     New Brunswick   \n",
       "3  I know it's been a while since we did this sho...      Saskatchewan   \n",
       "4  🎧: https://ad.gt/yt-perfect\\n💰: https://atlant...           Alberta   \n",
       "\n",
       "         lat         lon                                geometry  \n",
       "0  50.150025  -96.883322        POINT (-96.88332178 50.15002545)  \n",
       "1  49.099960 -116.516697         POINT (-116.516697 49.09996035)  \n",
       "2  45.267042  -66.076675  POINT (-66.07667505000001 45.26704185)  \n",
       "3  50.933311 -102.799989        POINT (-102.7999891 50.93331097)  \n",
       "4  53.016698 -112.816639        POINT (-112.8166386 53.01669802)  "
      ]
     },
     "execution_count": 3,
     "metadata": {},
     "output_type": "execute_result"
    }
   ],
   "source": [
    "print('Dimensiones del dataset:', df.shape)\n",
    "df.head()"
   ]
  },
  {
   "cell_type": "markdown",
   "id": "199e1271",
   "metadata": {},
   "source": [
    "**Inspección de datos**"
   ]
  },
  {
   "cell_type": "code",
   "execution_count": 4,
   "id": "fc3dbdac",
   "metadata": {},
   "outputs": [
    {
     "name": "stdout",
     "output_type": "stream",
     "text": [
      "Nombres de columnas:\n",
      "['video_id', 'trending_date', 'title', 'channel_title', 'category_id', 'publish_time', 'tags', 'views', 'likes', 'dislikes', 'comment_count', 'thumbnail_link', 'comments_disabled', 'ratings_disabled', 'video_error_or_removed', 'description', 'state', 'lat', 'lon', 'geometry']\n"
     ]
    }
   ],
   "source": [
    "\n",
    "print(\"Nombres de columnas:\")\n",
    "print(df.columns.tolist())"
   ]
  },
  {
   "cell_type": "code",
   "execution_count": 5,
   "id": "0ee57bc2",
   "metadata": {},
   "outputs": [
    {
     "name": "stdout",
     "output_type": "stream",
     "text": [
      "Tipos de datos:\n",
      "video_id                   object\n",
      "trending_date              object\n",
      "title                      object\n",
      "channel_title              object\n",
      "category_id                 int64\n",
      "publish_time               object\n",
      "tags                       object\n",
      "views                       int64\n",
      "likes                       int64\n",
      "dislikes                    int64\n",
      "comment_count               int64\n",
      "thumbnail_link             object\n",
      "comments_disabled            bool\n",
      "ratings_disabled             bool\n",
      "video_error_or_removed       bool\n",
      "description                object\n",
      "state                      object\n",
      "lat                       float64\n",
      "lon                       float64\n",
      "geometry                   object\n",
      "dtype: object\n"
     ]
    }
   ],
   "source": [
    "print(\"Tipos de datos:\")\n",
    "print(df.dtypes)"
   ]
  },
  {
   "cell_type": "code",
   "execution_count": 6,
   "id": "7b5c5190",
   "metadata": {},
   "outputs": [
    {
     "name": "stdout",
     "output_type": "stream",
     "text": [
      "Tabla de frecuencia - Category ID\n",
      "category_id\n",
      "24    13451\n",
      "25     4159\n",
      "22     4105\n",
      "23     3773\n",
      "10     3731\n",
      "17     2787\n",
      "1      2060\n",
      "26     2007\n",
      "20     1344\n",
      "28     1155\n",
      "27      991\n",
      "19      392\n",
      "15      369\n",
      "2       353\n",
      "43      124\n",
      "29       74\n",
      "30        6\n",
      "Name: count, dtype: int64\n"
     ]
    }
   ],
   "source": [
    "print(\"Tabla de frecuencia - Category ID\")\n",
    "print(df['category_id'].value_counts())"
   ]
  },
  {
   "cell_type": "code",
   "execution_count": 7,
   "id": "0a6262f6",
   "metadata": {},
   "outputs": [
    {
     "name": "stdout",
     "output_type": "stream",
     "text": [
      "Tabla de frecuencia - State\n",
      "state\n",
      "Quebec                       3247\n",
      "Alberta                      3209\n",
      "British Columbia             3196\n",
      "Yukon                        3159\n",
      "Ontario                      3156\n",
      "Prince Edward Island         3141\n",
      "Northwest Territories        3140\n",
      "Newfoundland And Labrador    3136\n",
      "New Brunswick                3131\n",
      "Nunavut                      3123\n",
      "Manitoba                     3123\n",
      "Nova Scotia                  3113\n",
      "Saskatchewan                 3007\n",
      "Name: count, dtype: int64\n"
     ]
    }
   ],
   "source": [
    "print(\"Tabla de frecuencia - State\")\n",
    "print(df['state'].value_counts())"
   ]
  },
  {
   "cell_type": "code",
   "execution_count": 8,
   "id": "3638b819",
   "metadata": {},
   "outputs": [
    {
     "name": "stdout",
     "output_type": "stream",
     "text": [
      "Tabla de frecuencia - Comments Disabled\n",
      "comments_disabled\n",
      "False    40298\n",
      "True       583\n",
      "Name: count, dtype: int64\n"
     ]
    }
   ],
   "source": [
    "print(\"Tabla de frecuencia - Comments Disabled\")\n",
    "print(df['comments_disabled'].value_counts())"
   ]
  },
  {
   "cell_type": "code",
   "execution_count": 9,
   "id": "d7a9dcf7",
   "metadata": {},
   "outputs": [
    {
     "name": "stdout",
     "output_type": "stream",
     "text": [
      "Tabla de frecuencia - Ratings Disabled\n",
      "ratings_disabled\n",
      "False    40602\n",
      "True       279\n",
      "Name: count, dtype: int64\n"
     ]
    }
   ],
   "source": [
    "print(\"Tabla de frecuencia - Ratings Disabled\")\n",
    "print(df['ratings_disabled'].value_counts())"
   ]
  },
  {
   "cell_type": "code",
   "execution_count": 10,
   "id": "94bc8569",
   "metadata": {},
   "outputs": [
    {
     "name": "stdout",
     "output_type": "stream",
     "text": [
      "Tabla de frecuencia - Video Error or Removed\n",
      "video_error_or_removed\n",
      "False    40854\n",
      "True        27\n",
      "Name: count, dtype: int64\n"
     ]
    }
   ],
   "source": [
    "print(\"Tabla de frecuencia - Video Error or Removed\")\n",
    "print(df['video_error_or_removed'].value_counts())"
   ]
  },
  {
   "cell_type": "markdown",
   "id": "855e436a",
   "metadata": {},
   "source": [
    "**Calidad de los datos**"
   ]
  },
  {
   "cell_type": "code",
   "execution_count": 18,
   "id": "8dce1c30",
   "metadata": {},
   "outputs": [
    {
     "name": "stdout",
     "output_type": "stream",
     "text": [
      "Número total de videos repetidos:  16454\n",
      "\n",
      "Los 5 videos más duplicados y sus conteos:\n",
      "video_id\n",
      "l_lblj8Cq0o    8\n",
      "VYOjWnS4cMY    8\n",
      "6ZfuNTqbHE8    8\n",
      "UceaB4D0jpo    8\n",
      "MGYJuETPQEg    7\n",
      "Name: count, dtype: int64\n"
     ]
    }
   ],
   "source": [
    "duplicate_counts = df['video_id'].value_counts()\n",
    "print(\"Número total de videos repetidos: \", sum(duplicate_counts[duplicate_counts > 1] - 1))\n",
    "print(\"\\nLos 5 videos más duplicados y sus conteos:\")\n",
    "print(duplicate_counts[duplicate_counts > 1].head())\n"
   ]
  },
  {
   "cell_type": "code",
   "execution_count": 12,
   "id": "e559fc7d",
   "metadata": {},
   "outputs": [
    {
     "data": {
      "text/html": [
       "<div>\n",
       "<style scoped>\n",
       "    .dataframe tbody tr th:only-of-type {\n",
       "        vertical-align: middle;\n",
       "    }\n",
       "\n",
       "    .dataframe tbody tr th {\n",
       "        vertical-align: top;\n",
       "    }\n",
       "\n",
       "    .dataframe thead th {\n",
       "        text-align: right;\n",
       "    }\n",
       "</style>\n",
       "<table border=\"1\" class=\"dataframe\">\n",
       "  <thead>\n",
       "    <tr style=\"text-align: right;\">\n",
       "      <th></th>\n",
       "      <th>trending_date</th>\n",
       "      <th>views</th>\n",
       "      <th>likes</th>\n",
       "      <th>comment_count</th>\n",
       "    </tr>\n",
       "  </thead>\n",
       "  <tbody>\n",
       "    <tr>\n",
       "      <th>7196</th>\n",
       "      <td>17.20.12</td>\n",
       "      <td>1836462</td>\n",
       "      <td>134874</td>\n",
       "      <td>11820</td>\n",
       "    </tr>\n",
       "    <tr>\n",
       "      <th>7396</th>\n",
       "      <td>17.21.12</td>\n",
       "      <td>5051587</td>\n",
       "      <td>255347</td>\n",
       "      <td>21809</td>\n",
       "    </tr>\n",
       "    <tr>\n",
       "      <th>7597</th>\n",
       "      <td>17.22.12</td>\n",
       "      <td>7729028</td>\n",
       "      <td>325585</td>\n",
       "      <td>26578</td>\n",
       "    </tr>\n",
       "    <tr>\n",
       "      <th>7802</th>\n",
       "      <td>17.23.12</td>\n",
       "      <td>11542143</td>\n",
       "      <td>394642</td>\n",
       "      <td>30024</td>\n",
       "    </tr>\n",
       "    <tr>\n",
       "      <th>8011</th>\n",
       "      <td>17.24.12</td>\n",
       "      <td>15191078</td>\n",
       "      <td>444887</td>\n",
       "      <td>32226</td>\n",
       "    </tr>\n",
       "    <tr>\n",
       "      <th>8227</th>\n",
       "      <td>17.25.12</td>\n",
       "      <td>18832489</td>\n",
       "      <td>486548</td>\n",
       "      <td>33645</td>\n",
       "    </tr>\n",
       "    <tr>\n",
       "      <th>8474</th>\n",
       "      <td>17.26.12</td>\n",
       "      <td>21993346</td>\n",
       "      <td>520228</td>\n",
       "      <td>35134</td>\n",
       "    </tr>\n",
       "    <tr>\n",
       "      <th>8780</th>\n",
       "      <td>17.27.12</td>\n",
       "      <td>25184395</td>\n",
       "      <td>553602</td>\n",
       "      <td>36309</td>\n",
       "    </tr>\n",
       "  </tbody>\n",
       "</table>\n",
       "</div>"
      ],
      "text/plain": [
       "     trending_date     views   likes  comment_count\n",
       "7196      17.20.12   1836462  134874          11820\n",
       "7396      17.21.12   5051587  255347          21809\n",
       "7597      17.22.12   7729028  325585          26578\n",
       "7802      17.23.12  11542143  394642          30024\n",
       "8011      17.24.12  15191078  444887          32226\n",
       "8227      17.25.12  18832489  486548          33645\n",
       "8474      17.26.12  21993346  520228          35134\n",
       "8780      17.27.12  25184395  553602          36309"
      ]
     },
     "execution_count": 12,
     "metadata": {},
     "output_type": "execute_result"
    }
   ],
   "source": [
    "video_repetido = duplicados.index[0]\n",
    "df[df['video_id'] == video_repetido][['trending_date', 'views', 'likes', 'comment_count']]"
   ]
  },
  {
   "cell_type": "code",
   "execution_count": 20,
   "id": "1dad7c7e",
   "metadata": {},
   "outputs": [
    {
     "data": {
      "text/plain": [
       "video_id                     0\n",
       "trending_date                0\n",
       "title                        0\n",
       "channel_title                0\n",
       "category_id                  0\n",
       "publish_time                 0\n",
       "tags                         0\n",
       "views                        0\n",
       "likes                        0\n",
       "dislikes                     0\n",
       "comment_count                0\n",
       "thumbnail_link               0\n",
       "comments_disabled            0\n",
       "ratings_disabled             0\n",
       "video_error_or_removed       0\n",
       "description               1296\n",
       "state                        0\n",
       "lat                          0\n",
       "lon                          0\n",
       "geometry                     0\n",
       "dtype: int64"
      ]
     },
     "execution_count": 20,
     "metadata": {},
     "output_type": "execute_result"
    }
   ],
   "source": [
    "df.isnull().sum()"
   ]
  }
 ],
 "metadata": {
  "kernelspec": {
   "display_name": "Python 3",
   "language": "python",
   "name": "python3"
  },
  "language_info": {
   "codemirror_mode": {
    "name": "ipython",
    "version": 3
   },
   "file_extension": ".py",
   "mimetype": "text/x-python",
   "name": "python",
   "nbconvert_exporter": "python",
   "pygments_lexer": "ipython3",
   "version": "3.13.2"
  }
 },
 "nbformat": 4,
 "nbformat_minor": 5
}
